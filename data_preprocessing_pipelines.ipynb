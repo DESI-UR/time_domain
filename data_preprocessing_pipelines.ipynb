{
 "cells": [
  {
   "cell_type": "code",
   "execution_count": 51,
   "metadata": {},
   "outputs": [],
   "source": [
    "import numpy as np\n",
    "import pandas as pd\n",
    "import os\n",
    "import matplotlib as mpl\n",
    "import matplotlib.pyplot as plt\n",
    "from astropy.io import fits\n",
    "import glob\n",
    "from sklearn import preprocessing\n",
    "from sklearn.preprocessing import OneHotEncoder\n",
    "from sklearn import pipeline\n",
    "from sklearn.base import BaseEstimator, TransformerMixin"
   ]
  },
  {
   "cell_type": "markdown",
   "metadata": {},
   "source": [
    "## Grab and Preprocess Coadded fluxes"
   ]
  },
  {
   "cell_type": "code",
   "execution_count": 52,
   "metadata": {},
   "outputs": [],
   "source": [
    "# Grab coadded file names\n",
    "files_host = np.sort(glob.glob('/scratch/sbenzvi_lab/desi/time-domain/bgs/hosts/*/*coadd.fits'))\n",
    "files_ia = np.sort(glob.glob('/scratch/sbenzvi_lab/desi/time-domain/bgs/sne_ia/*/*coadd.fits'))\n",
    "files_iip = np.sort(glob.glob('/scratch/sbenzvi_lab/desi/time-domain/bgs/sne_iip/*/*coadd.fits'))\n",
    "\n",
    "# remove 002 from iip, targetIDs don't match\n",
    "files_iip = np.delete(files_iip, 2)"
   ]
  },
  {
   "cell_type": "code",
   "execution_count": 53,
   "metadata": {},
   "outputs": [],
   "source": [
    "# function for grabbing list of coadded flux spectra from list of files\n",
    "def grabFluxFromFiles(list_of_files):\n",
    "    target_id = []\n",
    "    flux = []\n",
    "    for f in list_of_files:\n",
    "        h = fits.open(f)\n",
    "        fl = h[1].data\n",
    "        flux.append(fl)\n",
    "        t1 = h['FIBERMAP'].data['TARGETID']\n",
    "        target_id.append(t1)\n",
    "    return np.concatenate(flux), np.asarray(target_id)"
   ]
  },
  {
   "cell_type": "code",
   "execution_count": 54,
   "metadata": {},
   "outputs": [],
   "source": [
    "# filter out the nonzero fluxes, returns a binary list of where nonzeros are located in original list and the filtered\n",
    "# list itself\n",
    "def grabNonZeros(fluxes):\n",
    "    nonzero_spectra_binary = np.count_nonzero(fluxes, axis=1)!=0\n",
    "    fluxes_nonzero = fluxes[nonzero_spectra_binary]\n",
    "    return nonzero_spectra_binary, fluxes_nonzero"
   ]
  },
  {
   "cell_type": "code",
   "execution_count": 55,
   "metadata": {},
   "outputs": [],
   "source": [
    "# function for decimating fluxes to 400 features\n",
    "def Decimator(fluxes):\n",
    "    return np.median(fluxes[:,:6000].reshape(-1,400,15),2)"
   ]
  },
  {
   "cell_type": "code",
   "execution_count": 154,
   "metadata": {},
   "outputs": [],
   "source": [
    "# Min-Max Normalizer\n",
    "def minMaxNormalizeAcrossFeatures(decimated):\n",
    "    maxflux = decimated.max(axis=0)#.reshape(-1,1)\n",
    "    minflux = decimated.min(axis=0)#.reshape(-1,1)\n",
    "    standardized = (decimated - minflux)/(maxflux-minflux)\n",
    "    return standardized"
   ]
  },
  {
   "cell_type": "code",
   "execution_count": 155,
   "metadata": {},
   "outputs": [],
   "source": [
    "# Min-Max Normalizer\n",
    "def minMaxNormalize(decimated):\n",
    "    maxflux = decimated.max(axis=-1).reshape(-1,1)\n",
    "    minflux = decimated.min(axis=-1).reshape(-1,1)\n",
    "    standardized = (decimated - minflux)/(maxflux-minflux)\n",
    "    return standardized"
   ]
  },
  {
   "cell_type": "code",
   "execution_count": 56,
   "metadata": {},
   "outputs": [],
   "source": [
    "# Get fluxes\n",
    "fluxes_host, target_id_host = grabFluxFromFiles(files_host)\n",
    "fluxes_ia, target_id_ia = grabFluxFromFiles(files_ia)\n",
    "fluxes_iip, target_id_iip = grabFluxFromFiles(files_iip)"
   ]
  },
  {
   "cell_type": "code",
   "execution_count": 57,
   "metadata": {},
   "outputs": [],
   "source": [
    "# Filter nonzero fluxes\n",
    "nonzero_hosts_binary, fluxes_host = grabNonZeros(fluxes_host)\n",
    "nonzero_ia_binary, fluxes_ia = grabNonZeros(fluxes_ia)\n",
    "nonzero_iip_binary, fluxes_iip = grabNonZeros(fluxes_iip)"
   ]
  },
  {
   "cell_type": "code",
   "execution_count": 58,
   "metadata": {},
   "outputs": [],
   "source": [
    "# Decimate fluxes\n",
    "decimated_fluxes_host = Decimator(fluxes_host)\n",
    "decimated_fluxes_ia = Decimator(fluxes_ia)\n",
    "decimated_fluxes_iip = Decimator(fluxes_iip)"
   ]
  },
  {
   "cell_type": "code",
   "execution_count": 156,
   "metadata": {},
   "outputs": [],
   "source": [
    "# Normalized fluxes\n",
    "\n",
    "standardized_hosts = minMaxNormalize(decimated_fluxes_host)\n",
    "standardized_ia = minMaxNormalize(decimated_fluxes_ia)\n",
    "standardized_iip = minMaxNormalize(decimated_fluxes_iip)\n",
    "\n",
    "#standardized = minMaxNormalizeAcrossFeatures(np.concatenate([decimated_fluxes_host, decimated_fluxes_ia, decimated_fluxes_iip]))"
   ]
  },
  {
   "cell_type": "code",
   "execution_count": 178,
   "metadata": {},
   "outputs": [
    {
     "name": "stdout",
     "output_type": "stream",
     "text": [
      "[[ 19.5125302    1.18203787  -5.16623421 ...   5.1361331    4.13738704\n",
      "    4.28294089]\n",
      " [  0.62361153  -9.62853587   1.93345506 ...   3.44343176   2.72153166\n",
      "    2.19060456]\n",
      " [ 27.84650477 -11.6529527   -3.24463762 ...   3.24923349   1.02366292\n",
      "    1.12124701]\n",
      " ...\n",
      " [ 11.71586167  39.64405138  23.50698867 ...  27.89071028  29.91313831\n",
      "   28.12389265]\n",
      " [-14.33003244   6.57013011   1.55832046 ...   2.83613465   2.80721929\n",
      "    3.32901301]\n",
      " [ 12.89414193  14.01547982  -4.27121369 ...   1.12295669   2.38146914\n",
      "    3.02301301]]\n",
      "[[0.96889774 0.40158178 0.20510718 ... 0.52395827 0.49304777 0.49755256]\n",
      " [0.60939202 0.         0.68724968 ... 0.77700334 0.73409329 0.70253476]\n",
      " [1.         0.         0.21287166 ... 0.37727572 0.32093139 0.3234019 ]\n",
      " ...\n",
      " [0.12122504 0.69290325 0.36258442 ... 0.45231734 0.49371558 0.45709048]\n",
      " [0.         0.82319365 0.62579376 ... 0.67612296 0.67498407 0.69553594]\n",
      " [0.95572248 1.         0.27792549 ... 0.49092151 0.54061555 0.56594777]]\n",
      "(99588, 6265)\n",
      "(99588, 1)\n"
     ]
    },
    {
     "data": {
      "image/png": "[encoded data removed]",
      "text/plain": [
       "<Figure size 432x288 with 3 Axes>"
      ]
     },
     "metadata": {
      "needs_background": "light"
     },
     "output_type": "display_data"
    }
   ],
   "source": [
    "print(decimated_fluxes_host)\n",
    "print(standardized_hosts)\n",
    "print(fluxes_host.shape)\n",
    "print(fluxes_host.max(axis=-1).reshape(-1,1).shape)\n",
    "plt.subplot(131)\n",
    "plt.plot(fluxes_host[8])\n",
    "plt.subplot(132)\n",
    "plt.plot(decimated_fluxes_host[8])\n",
    "plt.subplot(133)\n",
    "plt.plot(standardized_hosts[8])\n",
    "plt.tight_layout()"
   ]
  },
  {
   "cell_type": "markdown",
   "metadata": {},
   "source": [
    "## Grab and Preprocess Truth Files"
   ]
  },
  {
   "cell_type": "code",
   "execution_count": 186,
   "metadata": {},
   "outputs": [],
   "source": [
    "# These match with the files we've chosen before, so the target IDs should match when we get truth data\n",
    "info_files_hosts = ['/'.join(f.split('/')[:-1]) + '/{}truth.fits'.format(f.split('/')[-1][:-10]) for f in files_host]\n",
    "info_files_ia = ['/'.join(f.split('/')[:-1]) + '/{}truth.fits'.format(f.split('/')[-1][:-10]) for f in files_ia]\n",
    "info_files_iip = ['/'.join(f.split('/')[:-1])+ '/{}truth.fits'.format(f.split('/')[-1][:-10]) for f in files_iip]"
   ]
  },
  {
   "cell_type": "code",
   "execution_count": 187,
   "metadata": {},
   "outputs": [],
   "source": [
    "# Function to return corresponding truez and flux magnitudes of host spectra\n",
    "# Exception raised if targetIDs don't match\n",
    "def getHostTruths(info_files, target_id_list, nonzero_hosts):\n",
    "    from functools import reduce\n",
    "    truez_ = []\n",
    "    rmags_ = []\n",
    "    #flux_ = []\n",
    "    i = 0\n",
    "    for f in info_files:\n",
    "        h = fits.open(f)\n",
    "        \n",
    "        # Check if target ids match first, if not, then stop and throw error.\n",
    "        lis = (h['TRUTH'].data['TARGETID']==target_id_list[i])\n",
    "        target_id_match = reduce((lambda a,b: a&b), lis)\n",
    "        if not target_id_match:\n",
    "            raise Exception(\"The Target IDs in our process did not match: {}, index: {}\".format(info_files[i], i))\n",
    "        \n",
    "        #else we collect flux_r and truez\n",
    "        z = h[3].data['TRUEZ']\n",
    "        truez_.append(z)\n",
    "        m = 22.5 - 2.5*np.log10(h[3].data['FLUX_R'])\n",
    "        rmags_.append(m)\n",
    "        \n",
    "        #fl = h['FLUX'].data\n",
    "        #flux_.append(fl)\n",
    "        \n",
    "        i = i+1\n",
    "\n",
    "    # filter using nonzero binary we had from coadded files\n",
    "    truez_hosts = np.concatenate(truez_)[nonzero_hosts]\n",
    "    rmags_hosts = np.concatenate(rmags_)[nonzero_hosts]\n",
    "    #noiseless_fluxes_hosts  = np.concatenate(flux_)[nonzero_hosts]\n",
    "    return truez_hosts, rmags_hosts #, noiseless_fluxes_hosts"
   ]
  },
  {
   "cell_type": "code",
   "execution_count": 188,
   "metadata": {},
   "outputs": [],
   "source": [
    "# Function to return corresponding truez, flux ratios, epochs, and flux magnitudes of transient spectra\n",
    "# Exception raised if targetIDs don't match\n",
    "def getTransientTruths(info_files, target_id_list, nonzero_bin):\n",
    "    from functools import reduce\n",
    "    rfr_ = []\n",
    "    truez_ = []\n",
    "    rmags_ = []\n",
    "    epochs_ = []\n",
    "    \n",
    "    missing_targets = []\n",
    "    i = 0\n",
    "    for f in info_files:\n",
    "        h = fits.open(f)\n",
    "        \n",
    "        # Check if target ids match first, if not, then stop and throw error.\n",
    "        lis = (h['TRUTH'].data['TARGETID']==target_id_list[i])\n",
    "        target_id_match = reduce((lambda a,b: a&b), lis)\n",
    "        if not target_id_match:\n",
    "            raise Exception(\"The Target IDs in our process did not match: {} index: {}\".format(i, info_files[i]))\n",
    "            '''missing_targets.append((i, target_id_list[i], h['TRUTH'].data['TARGETID']))\n",
    "            r = h[3].data['SNE_FLUXRATIO']\n",
    "            rfr_.append(r)\n",
    "            z = h[3].data['TRUEZ']\n",
    "            truez_.append(z)\n",
    "            m = 22.5 - 2.5*np.log10(h[3].data['FLUX_R'])\n",
    "            rmags_.append(m)\n",
    "            e = h[3].data['SNE_EPOCH']\n",
    "            epochs_.append(e)\n",
    "            i = i+1\n",
    "            continue'''\n",
    "        \n",
    "        #else we collect flux ratios, truez, flux_r, and epoch\n",
    "        r = h[3].data['SNE_FLUXRATIO']\n",
    "        rfr_.append(r)\n",
    "        z = h[3].data['TRUEZ']\n",
    "        truez_.append(z)\n",
    "        m = 22.5 - 2.5*np.log10(h[3].data['FLUX_R'])\n",
    "        rmags_.append(m)\n",
    "        e = h[3].data['SNE_EPOCH']\n",
    "        epochs_.append(e)\n",
    "        \n",
    "        i = i+1\n",
    "\n",
    "    # filter using nonzero binary we had from coadded files\n",
    "    rfr = np.concatenate(rfr_)[nonzero_bin]\n",
    "    truez = np.concatenate(truez_)[nonzero_bin]\n",
    "    rmags = np.concatenate(rmags_)[nonzero_bin]\n",
    "    epochs = np.concatenate(epochs_).astype(int)[nonzero_bin]\n",
    "        \n",
    "    return rfr, truez, rmags, epochs"
   ]
  },
  {
   "cell_type": "code",
   "execution_count": 189,
   "metadata": {},
   "outputs": [],
   "source": [
    "# Get Host Truth Data\n",
    "truez_hosts, rmags_hosts = getHostTruths(info_files_hosts, target_id_host, nonzero_hosts_binary)"
   ]
  },
  {
   "cell_type": "code",
   "execution_count": 190,
   "metadata": {},
   "outputs": [],
   "source": [
    "# Get IA Truth Data\n",
    "rfr_ia, truez_ia, rmags_ia, epochs_ia = getTransientTruths(info_files_ia, target_id_ia, nonzero_ia_binary)"
   ]
  },
  {
   "cell_type": "code",
   "execution_count": 191,
   "metadata": {},
   "outputs": [],
   "source": [
    "# Get IIP Truth Data\n",
    "rfr_iip, truez_iip, rmags_iip, epochs_iip = getTransientTruths(info_files_iip, target_id_iip, nonzero_iip_binary)"
   ]
  },
  {
   "cell_type": "code",
   "execution_count": 192,
   "metadata": {},
   "outputs": [],
   "source": [
    "# Nan Cleanup function for rfr, just converts them to 0\n",
    "def nanCleanUp(arr):\n",
    "    return np.array([a if ~np.isnan(a) else 0 for a in arr])"
   ]
  },
  {
   "cell_type": "code",
   "execution_count": 193,
   "metadata": {},
   "outputs": [],
   "source": [
    "# Clean up Nans\n",
    "rfr_ia_clean = nanCleanUp(rfr_ia)\n",
    "rfr_iip_clean = nanCleanUp(rfr_iip)"
   ]
  },
  {
   "cell_type": "code",
   "execution_count": 194,
   "metadata": {},
   "outputs": [
    {
     "name": "stdout",
     "output_type": "stream",
     "text": [
      "99588 99588 1000\n",
      "99492 99492 1000\n",
      "120155 120155 1206\n"
     ]
    }
   ],
   "source": [
    "print(len(standardized_hosts), len(np.concatenate(target_id_host)[nonzero_hosts_binary]), len(files_host))\n",
    "print(len(standardized_ia), len(np.concatenate(target_id_ia)[nonzero_ia_binary]),  len(files_ia))\n",
    "print(len(standardized_iip), len(np.concatenate(target_id_iip)[nonzero_iip_binary]),  len(files_iip))"
   ]
  },
  {
   "cell_type": "markdown",
   "metadata": {},
   "source": [
    "## Save all data into Fits files"
   ]
  },
  {
   "cell_type": "code",
   "execution_count": 196,
   "metadata": {},
   "outputs": [],
   "source": [
    "hduL = fits.HDUList()\n",
    "\n",
    "hdr = fits.Header()\n",
    "hdr['DESC'] = \"Nonzero Standardized Host Spectra\"\n",
    "hdu = fits.PrimaryHDU(header=hdr)\n",
    "hdu.data = standardized_hosts\n",
    "hduL.append(hdu)\n",
    "\n",
    "hdr = fits.Header()\n",
    "hdr['DESC'] = \"Nonzero Standardized Host TargetIDs\"\n",
    "hdu = fits.PrimaryHDU(header=hdr)\n",
    "hdu.data = np.concatenate(target_id_host)[nonzero_hosts_binary]\n",
    "hduL.append(hdu)\n",
    "\n",
    "hdr = fits.Header()\n",
    "hdr['DESC'] = \"Nonzero Standardized Host Flux Magnitudes\"\n",
    "hdu = fits.PrimaryHDU(header=hdr)\n",
    "hdu.data = rmags_hosts\n",
    "hduL.append(hdu)\n",
    "\n",
    "hdr = fits.Header()\n",
    "hdr['DESC'] = \"Nonzero Standardized Host TrueZ\"\n",
    "hdu = fits.PrimaryHDU(header=hdr)\n",
    "hdu.data = truez_hosts\n",
    "hduL.append(hdu)\n",
    "\n",
    "hduL.writeto('/scratch/dgandhi/desi/time-domain-bkup/cnn-data/hosts_data.fits', overwrite=True)"
   ]
  },
  {
   "cell_type": "code",
   "execution_count": 197,
   "metadata": {},
   "outputs": [],
   "source": [
    "hduL = fits.HDUList()\n",
    "\n",
    "hdr = fits.Header()\n",
    "hdr['DESC'] = \"Nonzero Standardized IA Spectra\"\n",
    "hdu = fits.PrimaryHDU(header=hdr)\n",
    "hdu.data = standardized_ia\n",
    "hduL.append(hdu)\n",
    "\n",
    "hdr = fits.Header()\n",
    "hdr['DESC'] = \"Nonzero Standardized IA TargetIDs\"\n",
    "hdu = fits.PrimaryHDU(header=hdr)\n",
    "hdu.data = np.concatenate(target_id_ia)[nonzero_ia_binary]\n",
    "hduL.append(hdu)\n",
    "\n",
    "hdr = fits.Header()\n",
    "hdr['DESC'] = \"Nonzero Standardized IA SNE-to-Host Flux Ratios\"\n",
    "hdu = fits.PrimaryHDU(header=hdr)\n",
    "hdu.data = rfr_ia_clean\n",
    "hduL.append(hdu)\n",
    "\n",
    "hdr = fits.Header()\n",
    "hdr['DESC'] = \"Nonzero Standardized IA Epochs\"\n",
    "hdu = fits.PrimaryHDU(header=hdr)\n",
    "hdu.data = epochs_ia\n",
    "hduL.append(hdu)\n",
    "\n",
    "hdr = fits.Header()\n",
    "hdr['DESC'] = \"Nonzero Standardized IA Flux Magnitudes\"\n",
    "hdu = fits.PrimaryHDU(header=hdr)\n",
    "hdu.data = rmags_ia\n",
    "hduL.append(hdu)\n",
    "\n",
    "hdr = fits.Header()\n",
    "hdr['DESC'] = \"Nonzero Standardized IA TrueZ\"\n",
    "hdu = fits.PrimaryHDU(header=hdr)\n",
    "hdu.data = truez_ia\n",
    "hduL.append(hdu)\n",
    "\n",
    "hduL.writeto('/scratch/dgandhi/desi/time-domain-bkup/cnn-data/sne_ia_data.fits', overwrite=True)"
   ]
  },
  {
   "cell_type": "code",
   "execution_count": 198,
   "metadata": {},
   "outputs": [],
   "source": [
    "hduL = fits.HDUList()\n",
    "\n",
    "hdr = fits.Header()\n",
    "hdr['DESC'] = \"Nonzero Standardized IIP Spectra\"\n",
    "hdu = fits.PrimaryHDU(header=hdr)\n",
    "hdu.data = standardized_iip\n",
    "hduL.append(hdu)\n",
    "\n",
    "hdr = fits.Header()\n",
    "hdr['DESC'] = \"Nonzero Standardized IIP TargetIDs\"\n",
    "hdu = fits.PrimaryHDU(header=hdr)\n",
    "hdu.data = np.concatenate(target_id_iip)[nonzero_iip_binary]\n",
    "hduL.append(hdu)\n",
    "\n",
    "hdr = fits.Header()\n",
    "hdr['DESC'] = \"Nonzero Standardized IIP SNE-to-Host Flux Ratios\"\n",
    "hdu = fits.PrimaryHDU(header=hdr)\n",
    "hdu.data = rfr_iip_clean\n",
    "hduL.append(hdu)\n",
    "\n",
    "hdr = fits.Header()\n",
    "hdr['DESC'] = \"Nonzero Standardized IIP Epochs\"\n",
    "hdu = fits.PrimaryHDU(header=hdr)\n",
    "hdu.data = epochs_iip\n",
    "hduL.append(hdu)\n",
    "\n",
    "hdr = fits.Header()\n",
    "hdr['DESC'] = \"Nonzero Standardized IIP Flux Magnitudes\"\n",
    "hdu = fits.PrimaryHDU(header=hdr)\n",
    "hdu.data = rmags_iip\n",
    "hduL.append(hdu)\n",
    "\n",
    "hdr = fits.Header()\n",
    "hdr['DESC'] = \"Nonzero Standardized IIP TrueZ\"\n",
    "hdu = fits.PrimaryHDU(header=hdr)\n",
    "hdu.data = truez_iip\n",
    "hduL.append(hdu)\n",
    "\n",
    "hduL.writeto('/scratch/dgandhi/desi/time-domain-bkup/cnn-data/sne_iip_data.fits', overwrite=True)"
   ]
  }
 ],
 "metadata": {
  "kernelspec": {
   "display_name": "Python 3 (anaconda 5.3.0 DESI)",
   "language": "python",
   "name": "anaconda3-5.3.0"
  },
  "language_info": {
   "codemirror_mode": {
    "name": "ipython",
    "version": 3
   },
   "file_extension": ".py",
   "mimetype": "text/x-python",
   "name": "python",
   "nbconvert_exporter": "python",
   "pygments_lexer": "ipython3",
   "version": "3.6.8"
  }
 },
 "nbformat": 4,
 "nbformat_minor": 2
}
