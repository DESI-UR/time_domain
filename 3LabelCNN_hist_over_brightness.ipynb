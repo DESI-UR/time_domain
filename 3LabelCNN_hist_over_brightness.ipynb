{
 "cells": [
  {
   "cell_type": "code",
   "execution_count": 1,
   "metadata": {},
   "outputs": [
    {
     "name": "stderr",
     "output_type": "stream",
     "text": [
      "Using TensorFlow backend.\n"
     ]
    }
   ],
   "source": [
    "from keras.models import load_model\n",
    "from astropy.io import fits\n",
    "import numpy as np\n",
    "from keras.utils.np_utils import to_categorical\n",
    "import matplotlib.pyplot as plt\n",
    "import json"
   ]
  },
  {
   "cell_type": "code",
   "execution_count": 2,
   "metadata": {},
   "outputs": [],
   "source": [
    "basedir = \"/scratch/dgandhi/desi/time-domain-bkup/tuning_batch_v2/cnn/categorical/\"\n",
    "models = [\"batch(07-18_14:44:48)/iter(17)_run(07-18_14:44:49_511884)/weights/weights.Ep73-ValAcc0.83.hdf5\",\n",
    "          \"batch(07-18_14:44:48)/iter(67)_run(07-18_14:44:54_886971)/weights/weights.Ep72-ValAcc0.84.hdf5\",\n",
    "          \"batch(07-19_11:36:51)/iter(92)_run(07-19_11:36:55_775852)/weights/weights.Ep75-ValAcc0.87.hdf5\",\n",
    "          \"batch(07-19_11:36:51)/iter(64)_run(07-19_11:36:54_667053)/weights/weights.Ep73-ValAcc0.86.hdf5\",\n",
    "          \"batch(07-19_11:36:51)/iter(45)_run(07-19_11:36:53_892865)/weights/weights.Ep70-ValAcc0.85.hdf5\",\n",
    "          \"batch(07-19_11:36:51)/iter(27)_run(07-19_11:36:53_132799)/weights/weights.Ep73-ValAcc0.85.hdf5\",\n",
    "          \"batch(07-20_15:55:00)/iter(47)_run(07-20_15:55:02_573722)/weights/weights.Ep58-ValAcc0.87.hdf5\"\n",
    "         ]"
   ]
  },
  {
   "cell_type": "code",
   "execution_count": 4,
   "metadata": {},
   "outputs": [],
   "source": [
    "h = fits.open('/scratch/dgandhi/desi/time-domain-bkup/cnn-data/hosts_data.fits')\n",
    "standardized_hosts = h[0].data\n",
    "rmags_hosts = h[2].data\n",
    "h.close()\n",
    "h = fits.open('/scratch/dgandhi/desi/time-domain-bkup/cnn-data/sne_ia_data.fits')\n",
    "standardized_ia = h[0].data\n",
    "rfr_ia = h[2].data\n",
    "h.close()\n",
    "h = fits.open('/scratch/dgandhi/desi/time-domain-bkup/cnn-data/sne_iip_data.fits')\n",
    "standardized_iip = h[0].data\n",
    "rfr_iip = h[2].data\n",
    "h.close()"
   ]
  },
  {
   "cell_type": "code",
   "execution_count": 7,
   "metadata": {},
   "outputs": [
    {
     "name": "stdout",
     "output_type": "stream",
     "text": [
      "(99588, 400)\n",
      "(99588,)\n",
      "(99492, 400)\n",
      "(99492,)\n",
      "(120155, 400)\n",
      "(120155,)\n"
     ]
    }
   ],
   "source": [
    "print(standardized_hosts.shape)\n",
    "print(rmags_hosts.shape)\n",
    "print(standardized_ia.shape)\n",
    "print(rfr_ia.shape)\n",
    "print(standardized_iip.shape)\n",
    "print(rfr_iip.shape)"
   ]
  },
  {
   "cell_type": "code",
   "execution_count": 20,
   "metadata": {},
   "outputs": [],
   "source": [
    "test_hosts = standardized_hosts[85000:len(standardized_ia)]\n",
    "test_ia = standardized_ia[85000:len(standardized_ia)]\n",
    "test_iip = standardized_iip[85000:len(standardized_ia)]"
   ]
  },
  {
   "cell_type": "code",
   "execution_count": 21,
   "metadata": {},
   "outputs": [
    {
     "name": "stdout",
     "output_type": "stream",
     "text": [
      "(14492, 400) (14492, 400) (14492, 400)\n"
     ]
    }
   ],
   "source": [
    "print(test_hosts.shape, test_ia.shape, test_iip.shape)"
   ]
  },
  {
   "cell_type": "code",
   "execution_count": 36,
   "metadata": {},
   "outputs": [],
   "source": [
    "x_test = np.concatenate([test_hosts, test_ia, test_iip]).reshape(-1,400,1)\n",
    "y_test = np.concatenate([np.zeros(len(test_hosts)), np.ones(len(test_ia)), 1+np.ones(len(test_iip))])\n",
    "brightest = np.concatenate([rmags_hosts[85000:len(standardized_ia)] <= np.median(rmags_hosts),rfr_ia[85000:len(standardized_ia)] >=0.5, rfr_iip[85000:len(standardized_ia)] >= 0.5 ])\n"
   ]
  },
  {
   "cell_type": "code",
   "execution_count": 23,
   "metadata": {},
   "outputs": [],
   "source": [
    "model1 = load_model(basedir + models[-1])"
   ]
  },
  {
   "cell_type": "code",
   "execution_count": 24,
   "metadata": {},
   "outputs": [],
   "source": [
    "y_pred = model1.predict(x_test)"
   ]
  },
  {
   "cell_type": "code",
   "execution_count": 25,
   "metadata": {},
   "outputs": [
    {
     "name": "stdout",
     "output_type": "stream",
     "text": [
      "[[9.9704665e-01 2.4548554e-04 2.7079424e-03]\n",
      " [8.5906428e-01 5.1010507e-03 1.3583468e-01]\n",
      " [9.9991727e-01 7.7290308e-05 5.4870288e-06]\n",
      " ...\n",
      " [2.0710798e-03 3.4289524e-01 6.5503371e-01]\n",
      " [2.3165612e-08 1.0472029e-09 1.0000000e+00]\n",
      " [9.0412623e-01 3.6375958e-04 9.5510058e-02]]\n",
      "[0 0 0 ... 2 2 0]\n"
     ]
    }
   ],
   "source": [
    "print(y_pred)\n",
    "y_pred_labels = np.argmax(y_pred, axis=1)\n",
    "print(y_pred_labels)"
   ]
  },
  {
   "cell_type": "code",
   "execution_count": 37,
   "metadata": {},
   "outputs": [
    {
     "name": "stdout",
     "output_type": "stream",
     "text": [
      "0.8544024289263041\n",
      "0.9399944310376833\n"
     ]
    }
   ],
   "source": [
    "from sklearn.metrics import accuracy_score\n",
    "print(accuracy_score(y_test,y_pred_labels))\n",
    "print(accuracy_score(y_test[brightest],y_pred_labels[brightest]))"
   ]
  },
  {
   "cell_type": "code",
   "execution_count": 75,
   "metadata": {},
   "outputs": [],
   "source": [
    "y_pred_class_hosts = y_pred_labels[:len(test_hosts)]\n",
    "y_pred_class_ia = y_pred_labels[len(test_hosts):len(test_hosts)+len(test_ia)]\n",
    "y_pred_class_iip = y_pred_labels[len(test_hosts)+len(test_ia):]"
   ]
  },
  {
   "cell_type": "code",
   "execution_count": 78,
   "metadata": {},
   "outputs": [
    {
     "data": {
      "image/png": "[encoded data removed]",
      "text/plain": [
       "<Figure size 432x288 with 1 Axes>"
      ]
     },
     "metadata": {
      "needs_background": "light"
     },
     "output_type": "display_data"
    }
   ],
   "source": [
    "y_pred_class_ia_predicted_hosts = y_pred_class_ia == 0\n",
    "y_pred_class_ia_predicted_ia = y_pred_class_ia == 1\n",
    "y_pred_class_ia_predicted_iip = y_pred_class_ia == 2\n",
    "\n",
    "rfr_ia_test = rfr_ia[85000:len(standardized_ia)]\n",
    "plt.hist(rfr_ia_test, label=\"Total counts in dataset\", bins=20, histtype='step', color='black', alpha=0.5)\n",
    "plt.hist(rfr_ia_test[y_pred_class_ia_predicted_hosts], label=\"Predicted as host\", bins=20, histtype='step', color='red')\n",
    "plt.hist(rfr_ia_test[y_pred_class_ia_predicted_ia], label=\"Predicted as IA\", bins=20, histtype='step', color='green')\n",
    "plt.hist(rfr_ia_test[y_pred_class_ia_predicted_iip], label=\"Predicted as IIP\", bins=20, histtype='step', color='blue')\n",
    "plt.xlabel(r'$\\rho$, SNE Flux Ratio', fontsize=12)\n",
    "plt.ylabel('Counts', fontsize=12)\n",
    "plt.title('Class of SNE IAs with Prediction Counts over Flux Ratio')\n",
    "plt.legend(bbox_to_anchor=(1,0.5), loc=\"lower left\")\n",
    "plt.show()"
   ]
  },
  {
   "cell_type": "code",
   "execution_count": 80,
   "metadata": {},
   "outputs": [
    {
     "data": {
      "image/png": "[encoded data removed]",
      "text/plain": [
       "<Figure size 432x288 with 1 Axes>"
      ]
     },
     "metadata": {
      "needs_background": "light"
     },
     "output_type": "display_data"
    }
   ],
   "source": [
    "y_pred_class_iip_predicted_hosts = y_pred_class_iip == 0\n",
    "y_pred_class_iip_predicted_ia = y_pred_class_iip == 1\n",
    "y_pred_class_iip_predicted_iip = y_pred_class_iip == 2\n",
    "\n",
    "rfr_iip_test = rfr_iip[85000:len(standardized_ia)]\n",
    "plt.hist(rfr_iip_test, label=\"Total counts in dataset\", bins=20, histtype='step', color='black', alpha=0.5)\n",
    "plt.hist(rfr_iip_test[y_pred_class_iip_predicted_hosts], label=\"Predicted as host\", bins=20, histtype='step', color='red')\n",
    "plt.hist(rfr_iip_test[y_pred_class_iip_predicted_ia], label=\"Predicted as IA\", bins=20, histtype='step', color='blue')\n",
    "plt.hist(rfr_iip_test[y_pred_class_iip_predicted_iip], label=\"Predicted as IIP\", bins=20, histtype='step', color='green')\n",
    "plt.xlabel(r'$\\rho$, SNE Flux Ratio', fontsize=12)\n",
    "plt.ylabel('Counts', fontsize=12)\n",
    "plt.title('Class of SNE IIPs with Prediction Counts over Flux Ratio')\n",
    "plt.legend(bbox_to_anchor=(1,0.5), loc=\"lower left\")\n",
    "plt.show()"
   ]
  },
  {
   "cell_type": "code",
   "execution_count": null,
   "metadata": {},
   "outputs": [],
   "source": []
  }
 ],
 "metadata": {
  "kernelspec": {
   "display_name": "Python 3 (anaconda 5.3.0 DESI)",
   "language": "python",
   "name": "anaconda3-5.3.0"
  },
  "language_info": {
   "codemirror_mode": {
    "name": "ipython",
    "version": 3
   },
   "file_extension": ".py",
   "mimetype": "text/x-python",
   "name": "python",
   "nbconvert_exporter": "python",
   "pygments_lexer": "ipython3",
   "version": "3.6.8"
  }
 },
 "nbformat": 4,
 "nbformat_minor": 2
}
