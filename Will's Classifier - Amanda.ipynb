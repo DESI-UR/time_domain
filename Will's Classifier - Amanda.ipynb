{
 "cells": [
  {
   "cell_type": "code",
   "execution_count": 1,
   "metadata": {},
   "outputs": [
    {
     "name": "stderr",
     "output_type": "stream",
     "text": [
      "Using TensorFlow backend.\n",
      "/software/python3/3.6.5/lib/python3.6/site-packages/tensorflow/python/framework/dtypes.py:523: FutureWarning: Passing (type, 1) or '1type' as a synonym of type is deprecated; in a future version of numpy, it will be understood as (type, (1,)) / '(1,)type'.\n",
      "  _np_qint8 = np.dtype([(\"qint8\", np.int8, 1)])\n",
      "/software/python3/3.6.5/lib/python3.6/site-packages/tensorflow/python/framework/dtypes.py:524: FutureWarning: Passing (type, 1) or '1type' as a synonym of type is deprecated; in a future version of numpy, it will be understood as (type, (1,)) / '(1,)type'.\n",
      "  _np_quint8 = np.dtype([(\"quint8\", np.uint8, 1)])\n",
      "/software/python3/3.6.5/lib/python3.6/site-packages/tensorflow/python/framework/dtypes.py:525: FutureWarning: Passing (type, 1) or '1type' as a synonym of type is deprecated; in a future version of numpy, it will be understood as (type, (1,)) / '(1,)type'.\n",
      "  _np_qint16 = np.dtype([(\"qint16\", np.int16, 1)])\n",
      "/software/python3/3.6.5/lib/python3.6/site-packages/tensorflow/python/framework/dtypes.py:526: FutureWarning: Passing (type, 1) or '1type' as a synonym of type is deprecated; in a future version of numpy, it will be understood as (type, (1,)) / '(1,)type'.\n",
      "  _np_quint16 = np.dtype([(\"quint16\", np.uint16, 1)])\n",
      "/software/python3/3.6.5/lib/python3.6/site-packages/tensorflow/python/framework/dtypes.py:527: FutureWarning: Passing (type, 1) or '1type' as a synonym of type is deprecated; in a future version of numpy, it will be understood as (type, (1,)) / '(1,)type'.\n",
      "  _np_qint32 = np.dtype([(\"qint32\", np.int32, 1)])\n",
      "/software/python3/3.6.5/lib/python3.6/site-packages/tensorflow/python/framework/dtypes.py:532: FutureWarning: Passing (type, 1) or '1type' as a synonym of type is deprecated; in a future version of numpy, it will be understood as (type, (1,)) / '(1,)type'.\n",
      "  np_resource = np.dtype([(\"resource\", np.ubyte, 1)])\n"
     ]
    }
   ],
   "source": [
    "from numpy.random import seed\n",
    "seed(1)\n",
    "import pickle\n",
    "import numpy as np\n",
    "from datetime import datetime\n",
    "import os\n",
    "\n",
    "from matplotlib import pyplot as plt\n",
    "from keras import regularizers, callbacks\n",
    "from keras.utils.np_utils import to_categorical\n",
    "from keras.layers import (Input, Dense, Activation, ZeroPadding1D, \n",
    "BatchNormalization, Flatten, Reshape, Conv1D, MaxPooling1D, Dropout,Add, LSTM,Embedding)\n",
    "from keras.initializers import glorot_normal, glorot_uniform\n",
    "from keras.optimizers import Adam\n",
    "from keras.models import Model, load_model\n",
    "# from desispec.interpolation import resample_flux\n",
    "\n",
    "import math\n",
    "\n",
    "\n",
    "plt.rcParams['axes.prop_cycle'] = plt.cycler(color=plt.cm.tab10.colors)\n",
    "# plt.rcParamsDefault['axes.prop_cycle']\n",
    "plt.rcParams['font.size'] = 16\n",
    "plt.rcParams['axes.grid'] = True\n",
    "plt.rcParams['mathtext.fontset'] = 'dejavuserif'\n",
    "plt.rc('grid',alpha=0.3,linestyle='--')"
   ]
  },
  {
   "cell_type": "code",
   "execution_count": 2,
   "metadata": {},
   "outputs": [],
   "source": [
    "from keras import backend as K\n",
    "def network(input_shape, learning_rate=0.0005, reg=0.0032, dropout=0.7436, seed=None):\n",
    "    \"\"\" \n",
    "    Args:\n",
    "    input_shape -- shape of the input spectra\n",
    "    regularization_strength -- regularization factor\n",
    "    dropout -- dropout rate\n",
    "    seed -- seed of initializer\n",
    "    Returns:\n",
    "    model -- a Model() instance in Keras\n",
    "    \"\"\"\n",
    "\n",
    "    X_input = Input(input_shape, name='Input_Spec')\n",
    "\n",
    "    with K.name_scope('Conv_1'):\n",
    "        X = Conv1D(filters=8, kernel_size=5, strides=1, padding='same',\n",
    "                   kernel_regularizer=regularizers.l2(reg),\n",
    "                   bias_initializer='zeros',\n",
    "                   kernel_initializer=glorot_normal(seed))(X_input)\n",
    "        X = BatchNormalization(axis=2)(X)\n",
    "        X = Activation('relu')(X)\n",
    "        X = MaxPooling1D(pool_size= 2)(X)\n",
    "\n",
    "    with K.name_scope('Conv_2'):\n",
    "        X = Conv1D(filters=16, kernel_size=5, strides=1, padding='same',\n",
    "                   kernel_regularizer=regularizers.l2(reg),\n",
    "                   bias_initializer='zeros',\n",
    "                   kernel_initializer=glorot_normal(seed))(X)\n",
    "        X = BatchNormalization(axis=2)(X)\n",
    "        X = Activation('relu')(X)\n",
    "        X = MaxPooling1D(2)(X)\n",
    "    with K.name_scope('Conv_3'):\n",
    "        X = Conv1D(filters=32, kernel_size=5, strides=1, padding='same',\n",
    "                   kernel_regularizer=regularizers.l2(reg),\n",
    "                   bias_initializer='zeros',\n",
    "                   kernel_initializer=glorot_normal(seed))(X)\n",
    "        X = BatchNormalization(axis=2)(X)\n",
    "        X = Activation('relu')(X)\n",
    "        X = MaxPooling1D(2)(X)\n",
    "        \n",
    "    with K.name_scope('Conv_4'):\n",
    "        X = Conv1D(filters=64, kernel_size=5, strides=1, padding='same',\n",
    "                   kernel_regularizer=regularizers.l2(reg),\n",
    "                   bias_initializer='zeros',\n",
    "                   kernel_initializer=glorot_normal(seed))(X)\n",
    "        X = BatchNormalization(axis=2)(X)\n",
    "        X = Activation('relu')(X)\n",
    "        X = MaxPooling1D(2)(X)\n",
    "\n",
    "        \n",
    "    # FLATTEN -> FULLYCONNECTED\n",
    "    with K.name_scope('Dense_Layer'):\n",
    "        X = Flatten()(X)\n",
    "        X = Dense(256, kernel_regularizer=regularizers.l2(reg),\n",
    "                  activation='relu')(X)\n",
    "        X = Dropout(rate=dropout, seed=seed)(X)\n",
    "    \n",
    "    with K.name_scope('Output_Layer'):\n",
    "        X = Dense(1, kernel_regularizer=regularizers.l2(reg),\n",
    "              activation='sigmoid',name='Output_Classes')(X)\n",
    "\n",
    "    model = Model(inputs=X_input, outputs=X, name='SNnet')\n",
    "    model.compile(optimizer=Adam(lr=learning_rate), loss='binary_crossentropy',\n",
    "                  metrics=['accuracy'])\n",
    "    return model"
   ]
  },
  {
   "cell_type": "code",
   "execution_count": 3,
   "metadata": {},
   "outputs": [],
   "source": [
    "model2 = network((400,1))"
   ]
  },
  {
   "cell_type": "code",
   "execution_count": 4,
   "metadata": {},
   "outputs": [],
   "source": [
    "import glob\n",
    "from astropy.io import fits"
   ]
  },
  {
   "cell_type": "code",
   "execution_count": 5,
   "metadata": {},
   "outputs": [],
   "source": [
    "files_host = np.sort(glob.glob('hosts/*.fits'))\n",
    "flux_host = []\n",
    "for f in files_host:\n",
    "    h = fits.open(f)\n",
    "    fl = h['BRZ_FLUX'].data\n",
    "    flux_host.append(fl)\n",
    "fluxes_hosts_all = np.concatenate(flux_host)\n",
    "fluxes_hosts=[]\n",
    "bad_host_counter=0\n",
    "for i in fluxes_hosts_all:\n",
    "    if np.sum(i)==0 or math.isnan(np.sum(i)):\n",
    "        bad_host_counter=bad_host_counter+1\n",
    "    else:\n",
    "        fluxes_hosts.append(i)\n",
    "fluxes_hosts=np.asarray(fluxes_hosts)\n",
    "\n",
    "subspec_hosts = np.mean(fluxes_hosts[:,:6000].reshape(-1,400,15),2)\n",
    "maxflux = subspec_hosts.max(axis=-1).reshape(-1,1)\n",
    "minflux = subspec_hosts.min(axis=-1).reshape(-1,1)\n",
    "standarized_hosts = (subspec_hosts - minflux)/(maxflux-minflux)"
   ]
  },
  {
   "cell_type": "code",
   "execution_count": 6,
   "metadata": {},
   "outputs": [],
   "source": [
    "files = np.sort(glob.glob('sneia/*.fits'))\n",
    "flux = []\n",
    "for f in files:\n",
    "    h = fits.open(f)\n",
    "    f = h['BRZ_FLUX'].data\n",
    "    zeros = np.zeros(400)\n",
    "    flux.append(f)\n",
    "fluxes_all = np.concatenate(flux)\n",
    "fluxes=[]\n",
    "bad_SN_counter=0\n",
    "for i in fluxes_all:\n",
    "    if np.sum(i)==0 or math.isnan(np.sum(i)):\n",
    "        bad_SN_counter=bad_SN_counter+1\n",
    "    else:\n",
    "        fluxes.append(i)\n",
    "fluxes=np.asarray(fluxes)\n",
    "\n",
    "subspec = np.mean(fluxes[:,:6000].reshape(-1,400,15),2)\n",
    "maxflux = subspec.max(axis=-1).reshape(-1,1)\n",
    "minflux = subspec.min(axis=-1).reshape(-1,1)\n",
    "standarized = (subspec - minflux)/(maxflux-minflux)"
   ]
  },
  {
   "cell_type": "code",
   "execution_count": 7,
   "metadata": {},
   "outputs": [],
   "source": [
    "x_train = np.concatenate([standarized,standarized_hosts]).reshape(-1,400,1)\n",
    "y_train = np.concatenate([np.zeros(standarized.shape[0]),np.ones(standarized_hosts.shape[0])])\n",
    "permute = np.random.permutation(y_train.shape[0])"
   ]
  },
  {
   "cell_type": "code",
   "execution_count": 8,
   "metadata": {
    "scrolled": true
   },
   "outputs": [
    {
     "name": "stdout",
     "output_type": "stream",
     "text": [
      "Train on 17939 samples, validate on 1994 samples\n",
      "Epoch 1/50\n",
      "17939/17939 [==============================] - 24s 1ms/step - loss: 1.8006 - acc: 0.6396 - val_loss: 1.3593 - val_acc: 0.6936\n",
      "Epoch 2/50\n",
      "17939/17939 [==============================] - 21s 1ms/step - loss: 1.1906 - acc: 0.6868 - val_loss: 0.9963 - val_acc: 0.7277\n",
      "Epoch 3/50\n",
      "17939/17939 [==============================] - 21s 1ms/step - loss: 0.9172 - acc: 0.7177 - val_loss: 0.7960 - val_acc: 0.7462\n",
      "Epoch 4/50\n",
      "17939/17939 [==============================] - 21s 1ms/step - loss: 0.7640 - acc: 0.7517 - val_loss: 0.6857 - val_acc: 0.7688\n",
      "Epoch 5/50\n",
      "17939/17939 [==============================] - 21s 1ms/step - loss: 0.6680 - acc: 0.7695 - val_loss: 0.6476 - val_acc: 0.7643\n",
      "Epoch 6/50\n",
      "17939/17939 [==============================] - 21s 1ms/step - loss: 0.6140 - acc: 0.7862 - val_loss: 0.6020 - val_acc: 0.7703\n",
      "Epoch 7/50\n",
      "17939/17939 [==============================] - 21s 1ms/step - loss: 0.5752 - acc: 0.7943 - val_loss: 0.5513 - val_acc: 0.7954\n",
      "Epoch 8/50\n",
      "17939/17939 [==============================] - 21s 1ms/step - loss: 0.5474 - acc: 0.8020 - val_loss: 0.5478 - val_acc: 0.7944\n",
      "Epoch 9/50\n",
      "17939/17939 [==============================] - 21s 1ms/step - loss: 0.5281 - acc: 0.8114 - val_loss: 0.5442 - val_acc: 0.7939\n",
      "Epoch 10/50\n",
      "17939/17939 [==============================] - 21s 1ms/step - loss: 0.5110 - acc: 0.8165 - val_loss: 0.5027 - val_acc: 0.8190\n",
      "Epoch 11/50\n",
      "17939/17939 [==============================] - 21s 1ms/step - loss: 0.5022 - acc: 0.8199 - val_loss: 0.5160 - val_acc: 0.8019\n",
      "Epoch 12/50\n",
      "17939/17939 [==============================] - 21s 1ms/step - loss: 0.4855 - acc: 0.8259 - val_loss: 0.4972 - val_acc: 0.8134\n",
      "Epoch 13/50\n",
      "17939/17939 [==============================] - 21s 1ms/step - loss: 0.4716 - acc: 0.8324 - val_loss: 0.4843 - val_acc: 0.8210\n",
      "Epoch 14/50\n",
      "17939/17939 [==============================] - 21s 1ms/step - loss: 0.4716 - acc: 0.8342 - val_loss: 0.5302 - val_acc: 0.7914\n",
      "Epoch 15/50\n",
      "17939/17939 [==============================] - 21s 1ms/step - loss: 0.4613 - acc: 0.8389 - val_loss: 0.5199 - val_acc: 0.8034\n",
      "Epoch 16/50\n",
      "17939/17939 [==============================] - 22s 1ms/step - loss: 0.4514 - acc: 0.8433 - val_loss: 0.4750 - val_acc: 0.8295\n",
      "Epoch 17/50\n",
      "17939/17939 [==============================] - 21s 1ms/step - loss: 0.4490 - acc: 0.8459 - val_loss: 0.5211 - val_acc: 0.8024\n",
      "Epoch 18/50\n",
      "17939/17939 [==============================] - 22s 1ms/step - loss: 0.4446 - acc: 0.8479 - val_loss: 0.4709 - val_acc: 0.8260\n",
      "Epoch 19/50\n",
      "17939/17939 [==============================] - 23s 1ms/step - loss: 0.4372 - acc: 0.8534 - val_loss: 0.5126 - val_acc: 0.8094\n",
      "Epoch 20/50\n",
      "17939/17939 [==============================] - 23s 1ms/step - loss: 0.4309 - acc: 0.8587 - val_loss: 0.5166 - val_acc: 0.8119\n",
      "Epoch 21/50\n",
      "17939/17939 [==============================] - 22s 1ms/step - loss: 0.4217 - acc: 0.8587 - val_loss: 0.5083 - val_acc: 0.8235\n",
      "Epoch 22/50\n",
      "17939/17939 [==============================] - 21s 1ms/step - loss: 0.4170 - acc: 0.8645 - val_loss: 0.4714 - val_acc: 0.8330\n",
      "Epoch 23/50\n",
      "17939/17939 [==============================] - 21s 1ms/step - loss: 0.4114 - acc: 0.8707 - val_loss: 0.5246 - val_acc: 0.8170\n",
      "Epoch 24/50\n",
      "17939/17939 [==============================] - 23s 1ms/step - loss: 0.4107 - acc: 0.8710 - val_loss: 0.4828 - val_acc: 0.8300\n",
      "Epoch 25/50\n",
      "17939/17939 [==============================] - 22s 1ms/step - loss: 0.4050 - acc: 0.8741 - val_loss: 0.4905 - val_acc: 0.8215\n",
      "Epoch 26/50\n",
      "17939/17939 [==============================] - 22s 1ms/step - loss: 0.3949 - acc: 0.8812 - val_loss: 0.4894 - val_acc: 0.8280\n",
      "Epoch 27/50\n",
      "17939/17939 [==============================] - 22s 1ms/step - loss: 0.3880 - acc: 0.8830 - val_loss: 0.5388 - val_acc: 0.8099\n",
      "Epoch 28/50\n",
      "17939/17939 [==============================] - 22s 1ms/step - loss: 0.3953 - acc: 0.8814 - val_loss: 0.5106 - val_acc: 0.8195\n",
      "Epoch 29/50\n",
      "17939/17939 [==============================] - 22s 1ms/step - loss: 0.3795 - acc: 0.8905 - val_loss: 0.5171 - val_acc: 0.8185\n",
      "Epoch 30/50\n",
      "17939/17939 [==============================] - 22s 1ms/step - loss: 0.3765 - acc: 0.8924 - val_loss: 0.5725 - val_acc: 0.8089\n",
      "Epoch 31/50\n",
      "17939/17939 [==============================] - 22s 1ms/step - loss: 0.3731 - acc: 0.8921 - val_loss: 0.4990 - val_acc: 0.8225\n",
      "Epoch 32/50\n",
      "17939/17939 [==============================] - 21s 1ms/step - loss: 0.3664 - acc: 0.8950 - val_loss: 0.5442 - val_acc: 0.8139\n",
      "Epoch 33/50\n",
      "17939/17939 [==============================] - 21s 1ms/step - loss: 0.3656 - acc: 0.8989 - val_loss: 0.5302 - val_acc: 0.8190\n",
      "Epoch 34/50\n",
      "17939/17939 [==============================] - 21s 1ms/step - loss: 0.3668 - acc: 0.8984 - val_loss: 0.5327 - val_acc: 0.8310\n",
      "Epoch 35/50\n",
      "17939/17939 [==============================] - 21s 1ms/step - loss: 0.3546 - acc: 0.9058 - val_loss: 0.5325 - val_acc: 0.8225\n",
      "Epoch 36/50\n",
      "17939/17939 [==============================] - 21s 1ms/step - loss: 0.3567 - acc: 0.9037 - val_loss: 0.5384 - val_acc: 0.8280\n",
      "Epoch 37/50\n",
      "17939/17939 [==============================] - 21s 1ms/step - loss: 0.3488 - acc: 0.9075 - val_loss: 0.6115 - val_acc: 0.8200\n",
      "Epoch 38/50\n",
      "17939/17939 [==============================] - 21s 1ms/step - loss: 0.3424 - acc: 0.9104 - val_loss: 0.5696 - val_acc: 0.8134\n",
      "Epoch 39/50\n",
      "17939/17939 [==============================] - 21s 1ms/step - loss: 0.3445 - acc: 0.9116 - val_loss: 0.5720 - val_acc: 0.8104\n",
      "Epoch 40/50\n",
      "17939/17939 [==============================] - 21s 1ms/step - loss: 0.3368 - acc: 0.9151 - val_loss: 0.5800 - val_acc: 0.7999\n",
      "Epoch 41/50\n",
      "17939/17939 [==============================] - 21s 1ms/step - loss: 0.3342 - acc: 0.9168 - val_loss: 0.5962 - val_acc: 0.7974\n",
      "Epoch 42/50\n",
      "17939/17939 [==============================] - 21s 1ms/step - loss: 0.3306 - acc: 0.9210 - val_loss: 0.5371 - val_acc: 0.8295\n",
      "Epoch 43/50\n",
      "17939/17939 [==============================] - 21s 1ms/step - loss: 0.3184 - acc: 0.9246 - val_loss: 0.6958 - val_acc: 0.7884\n",
      "Epoch 44/50\n",
      "17939/17939 [==============================] - 21s 1ms/step - loss: 0.3203 - acc: 0.9241 - val_loss: 0.5984 - val_acc: 0.8280\n",
      "Epoch 45/50\n",
      "17939/17939 [==============================] - 21s 1ms/step - loss: 0.3272 - acc: 0.9251 - val_loss: 0.6814 - val_acc: 0.7964\n",
      "Epoch 46/50\n",
      "17939/17939 [==============================] - 21s 1ms/step - loss: 0.3229 - acc: 0.9245 - val_loss: 0.5935 - val_acc: 0.8215\n",
      "Epoch 47/50\n",
      "17939/17939 [==============================] - 21s 1ms/step - loss: 0.3093 - acc: 0.9341 - val_loss: 0.6060 - val_acc: 0.8185\n",
      "Epoch 48/50\n",
      "17939/17939 [==============================] - 21s 1ms/step - loss: 0.3188 - acc: 0.9304 - val_loss: 0.6270 - val_acc: 0.8149\n",
      "Epoch 49/50\n",
      "17939/17939 [==============================] - 21s 1ms/step - loss: 0.3075 - acc: 0.9336 - val_loss: 0.5972 - val_acc: 0.8220\n",
      "Epoch 50/50\n",
      "17939/17939 [==============================] - 21s 1ms/step - loss: 0.3103 - acc: 0.9304 - val_loss: 0.6385 - val_acc: 0.8180\n"
     ]
    }
   ],
   "source": [
    "hist = model2.fit(x_train[permute][:30000],y_train[permute][:30000],batch_size=64,epochs=50,\n",
    "                  validation_split=0.1,shuffle=True)"
   ]
  },
  {
   "cell_type": "code",
   "execution_count": 13,
   "metadata": {},
   "outputs": [
    {
     "data": {
      "text/plain": [
       "Text(0.5,1,'acc vs epoch')"
      ]
     },
     "execution_count": 13,
     "metadata": {},
     "output_type": "execute_result"
    },
    {
     "data": {
      "image/png": "[encoded data removed]",
      "text/plain": [
       "<Figure size 432x288 with 1 Axes>"
      ]
     },
     "metadata": {},
     "output_type": "display_data"
    }
   ],
   "source": [
    "plt.plot(hist.history['acc'])\n",
    "plt.ylim(.6,.95)\n",
    "plt.show\n",
    "plt.title(\"acc vs epoch\")"
   ]
  },
  {
   "cell_type": "code",
   "execution_count": 14,
   "metadata": {},
   "outputs": [
    {
     "data": {
      "text/plain": [
       "Text(0.5,1,'val_acc vs epoch')"
      ]
     },
     "execution_count": 14,
     "metadata": {},
     "output_type": "execute_result"
    },
    {
     "data": {
      "image/png": "[encoded data removed]",
      "text/plain": [
       "<Figure size 432x288 with 1 Axes>"
      ]
     },
     "metadata": {},
     "output_type": "display_data"
    }
   ],
   "source": [
    "plt.plot(hist.history['val_acc'])\n",
    "plt.ylim(.6,.95)\n",
    "plt.show\n",
    "plt.title(\"val_acc vs epoch\")"
   ]
  },
  {
   "cell_type": "code",
   "execution_count": null,
   "metadata": {},
   "outputs": [],
   "source": []
  },
  {
   "cell_type": "code",
   "execution_count": null,
   "metadata": {},
   "outputs": [],
   "source": []
  },
  {
   "cell_type": "code",
   "execution_count": null,
   "metadata": {},
   "outputs": [],
   "source": []
  }
 ],
 "metadata": {
  "kernelspec": {
   "display_name": "Python 3 (3.6.5)",
   "language": "python",
   "name": "python3"
  },
  "language_info": {
   "codemirror_mode": {
    "name": "ipython",
    "version": 3
   },
   "file_extension": ".py",
   "mimetype": "text/x-python",
   "name": "python",
   "nbconvert_exporter": "python",
   "pygments_lexer": "ipython3",
   "version": "3.6.5"
  }
 },
 "nbformat": 4,
 "nbformat_minor": 2
}
