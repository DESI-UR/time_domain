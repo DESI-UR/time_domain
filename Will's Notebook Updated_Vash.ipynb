{
 "cells": [
  {
   "cell_type": "code",
   "execution_count": 1,
   "metadata": {},
   "outputs": [
    {
     "name": "stderr",
     "output_type": "stream",
     "text": [
      "Using TensorFlow backend.\n",
      "/software/python3/3.6.5/lib/python3.6/site-packages/tensorflow/python/framework/dtypes.py:523: FutureWarning: Passing (type, 1) or '1type' as a synonym of type is deprecated; in a future version of numpy, it will be understood as (type, (1,)) / '(1,)type'.\n",
      "  _np_qint8 = np.dtype([(\"qint8\", np.int8, 1)])\n",
      "/software/python3/3.6.5/lib/python3.6/site-packages/tensorflow/python/framework/dtypes.py:524: FutureWarning: Passing (type, 1) or '1type' as a synonym of type is deprecated; in a future version of numpy, it will be understood as (type, (1,)) / '(1,)type'.\n",
      "  _np_quint8 = np.dtype([(\"quint8\", np.uint8, 1)])\n",
      "/software/python3/3.6.5/lib/python3.6/site-packages/tensorflow/python/framework/dtypes.py:525: FutureWarning: Passing (type, 1) or '1type' as a synonym of type is deprecated; in a future version of numpy, it will be understood as (type, (1,)) / '(1,)type'.\n",
      "  _np_qint16 = np.dtype([(\"qint16\", np.int16, 1)])\n",
      "/software/python3/3.6.5/lib/python3.6/site-packages/tensorflow/python/framework/dtypes.py:526: FutureWarning: Passing (type, 1) or '1type' as a synonym of type is deprecated; in a future version of numpy, it will be understood as (type, (1,)) / '(1,)type'.\n",
      "  _np_quint16 = np.dtype([(\"quint16\", np.uint16, 1)])\n",
      "/software/python3/3.6.5/lib/python3.6/site-packages/tensorflow/python/framework/dtypes.py:527: FutureWarning: Passing (type, 1) or '1type' as a synonym of type is deprecated; in a future version of numpy, it will be understood as (type, (1,)) / '(1,)type'.\n",
      "  _np_qint32 = np.dtype([(\"qint32\", np.int32, 1)])\n",
      "/software/python3/3.6.5/lib/python3.6/site-packages/tensorflow/python/framework/dtypes.py:532: FutureWarning: Passing (type, 1) or '1type' as a synonym of type is deprecated; in a future version of numpy, it will be understood as (type, (1,)) / '(1,)type'.\n",
      "  np_resource = np.dtype([(\"resource\", np.ubyte, 1)])\n"
     ]
    }
   ],
   "source": [
    "from numpy.random import seed\n",
    "seed(1)\n",
    "import pickle\n",
    "import numpy as np\n",
    "from datetime import datetime\n",
    "import os\n",
    "\n",
    "from matplotlib import pyplot as plt\n",
    "from keras import regularizers, callbacks\n",
    "from keras.utils.np_utils import to_categorical\n",
    "from keras.layers import (Input, Dense, Activation, ZeroPadding1D, \n",
    "BatchNormalization, Flatten, Reshape, Conv1D, MaxPooling1D, Dropout,Add, LSTM,Embedding)\n",
    "from keras.initializers import glorot_normal, glorot_uniform\n",
    "from keras.optimizers import Adam\n",
    "from keras.models import Model, load_model\n",
    "#from desispec.interpolation import resample_flux\n",
    "\n",
    "plt.rcParams['axes.prop_cycle'] = plt.cycler(color=plt.cm.tab10.colors)\n",
    "#plt.rcParamsDefault['axes.prop_cycle']\n",
    "plt.rcParams['font.size'] = 16\n",
    "plt.rcParams['axes.grid'] = True\n",
    "plt.rcParams['mathtext.fontset'] = 'dejavuserif'\n",
    "plt.rc('grid',alpha=0.3,linestyle='--')"
   ]
  },
  {
   "cell_type": "code",
   "execution_count": 16,
   "metadata": {},
   "outputs": [],
   "source": [
    "from keras import backend as K\n",
    "def network(input_shape, learning_rate=0.0005, reg=0.0032, dropout=0.7436, seed=None):\n",
    "    \"\"\" \n",
    "    Args:\n",
    "    input_shape -- shape of the input spectra\n",
    "    regularization_strength -- regularization factor\n",
    "    dropout -- dropout rate\n",
    "    seed -- seed of initializer\n",
    "    Returns:\n",
    "    model -- a Model() instance in Keras\n",
    "    \"\"\"\n",
    "\n",
    "    X_input = Input(input_shape, name='Input_Spec')\n",
    "\n",
    "    with K.name_scope('Conv_1'):\n",
    "        X = Conv1D(filters=8, kernel_size=5, strides=1, padding='same',\n",
    "                   kernel_regularizer=regularizers.l2(reg),\n",
    "                   bias_initializer='zeros',\n",
    "                   kernel_initializer=glorot_normal(seed))(X_input)\n",
    "        X = BatchNormalization(axis=2)(X)\n",
    "        X = Activation('relu')(X)\n",
    "        X = MaxPooling1D(pool_size= 2)(X)\n",
    "\n",
    "    with K.name_scope('Conv_2'):\n",
    "        X = Conv1D(filters=16, kernel_size=5, strides=1, padding='same',\n",
    "                   kernel_regularizer=regularizers.l2(reg),\n",
    "                   bias_initializer='zeros',\n",
    "                   kernel_initializer=glorot_normal(seed))(X)\n",
    "        X = BatchNormalization(axis=2)(X)\n",
    "        X = Activation('relu')(X)\n",
    "        X = MaxPooling1D(2)(X)\n",
    "    with K.name_scope('Conv_3'):\n",
    "        X = Conv1D(filters=32, kernel_size=5, strides=1, padding='same',\n",
    "                   kernel_regularizer=regularizers.l2(reg),\n",
    "                   bias_initializer='zeros',\n",
    "                   kernel_initializer=glorot_normal(seed))(X)\n",
    "        X = BatchNormalization(axis=2)(X)\n",
    "        X = Activation('relu')(X)\n",
    "        X = MaxPooling1D(2)(X)\n",
    "        \n",
    "    with K.name_scope('Conv_4'):\n",
    "        X = Conv1D(filters=64, kernel_size=5, strides=1, padding='same',\n",
    "                   kernel_regularizer=regularizers.l2(reg),\n",
    "                   bias_initializer='zeros',\n",
    "                   kernel_initializer=glorot_normal(seed))(X)\n",
    "        X = BatchNormalization(axis=2)(X)\n",
    "        X = Activation('relu')(X)\n",
    "        X = MaxPooling1D(2)(X)\n",
    "\n",
    "        \n",
    "    # FLATTEN -> FULLYCONNECTED\n",
    "    with K.name_scope('Dense_Layer'):\n",
    "        X = Flatten()(X)\n",
    "        X = Dense(256, kernel_regularizer=regularizers.l2(reg),\n",
    "                  activation='relu')(X)\n",
    "        X = Dropout(rate=dropout, seed=seed)(X)\n",
    "    \n",
    "    with K.name_scope('Output_Layer'):\n",
    "        X = Dense(1, kernel_regularizer=regularizers.l2(reg),\n",
    "              activation='sigmoid',name='Output_Classes')(X)\n",
    "\n",
    "    model = Model(inputs=X_input, outputs=X, name='SNnet')\n",
    "    model.compile(optimizer=Adam(lr=learning_rate), loss='binary_crossentropy',\n",
    "                  metrics=['accuracy'])\n",
    "    return model\n",
    "\n",
    "model2 = network((400,1))\n"
   ]
  },
  {
   "cell_type": "code",
   "execution_count": 17,
   "metadata": {},
   "outputs": [],
   "source": [
    "import glob\n",
    "from astropy.io import fits\n",
    "from scipy.ndimage import median_filter\n",
    "get_ipython().run_line_magic('matplotlib', 'inline')"
   ]
  },
  {
   "cell_type": "code",
   "execution_count": 18,
   "metadata": {},
   "outputs": [
    {
     "name": "stdout",
     "output_type": "stream",
     "text": [
      "100\n"
     ]
    }
   ],
   "source": [
    "files = np.sort(glob.glob((r'/home/vtiwari2/Desktop/Research/DESI sims/DESI Transient Sims/sneia*/*coadd.fits')))\n",
    "flux = []\n",
    "print(len(files))\n",
    "for f in files:\n",
    "    h = fits.open(f)\n",
    "    fl = h['BRZ_FLUX'].data\n",
    "    wave = h['BRZ_WAVELENGTH'].data\n",
    "    zeros = np.zeros(6265)\n",
    "    flux.append(fl)\n",
    "flux = np.concatenate(flux)\n"
   ]
  },
  {
   "cell_type": "code",
   "execution_count": 19,
   "metadata": {},
   "outputs": [
    {
     "name": "stdout",
     "output_type": "stream",
     "text": [
      "36\n"
     ]
    }
   ],
   "source": [
    "# Removing files that have nan or just 0s\n",
    "fluxes=[]\n",
    "x = 0\n",
    "for flu in flux:\n",
    "    if (np.isnan(flu).any()) or (not np.any(flu)): #check for nan and 0(if the whole array is 0) respectively\n",
    "        x += 1\n",
    "    else:\n",
    "        fluxes.append(flu)\n",
    "print(x)\n",
    "fluxes = np.asarray(fluxes)\n",
    "fluxes = fluxes[fluxes.sum(axis=1)!=0]\n",
    "x = len(fluxes)\n",
    "subspec = np.mean(fluxes[:,:6000].reshape(-1,400,15),2)\n",
    "maxflux = fluxes.max(axis=-1).reshape(-1,1)\n",
    "minflux = fluxes.min(axis=-1).reshape(-1,1)\n",
    "standarized = (subspec - minflux)/(maxflux-minflux)"
   ]
  },
  {
   "cell_type": "code",
   "execution_count": 20,
   "metadata": {},
   "outputs": [
    {
     "name": "stdout",
     "output_type": "stream",
     "text": [
      "100\n"
     ]
    }
   ],
   "source": [
    "files_host = np.sort(glob.glob((r'/home/vtiwari2/Desktop/Research/DESI sims/DESI Transient Sims/hosts*/*coadd.fits')))\n",
    "flux_host = []\n",
    "print(len(files_host))\n",
    "for f in files_host:\n",
    "    h = fits.open(f)\n",
    "    wave = h['BRZ_WAVELENGTH'].data\n",
    "    flux = h['BRZ_FLUX'].data\n",
    "    flux_host.append(flux)\n",
    "\n",
    "flux_host = np.concatenate(flux_host)"
   ]
  },
  {
   "cell_type": "code",
   "execution_count": 21,
   "metadata": {},
   "outputs": [
    {
     "name": "stdout",
     "output_type": "stream",
     "text": [
      "31\n"
     ]
    }
   ],
   "source": [
    "# Nan and 0 check\n",
    "fluxes_hosts = []\n",
    "x = 0\n",
    "for flux in flux_host:\n",
    "    if (np.isnan(flux).any()) or (not np.any(flux)): #check for nan and 0(if the whole array is 0) respectively\n",
    "        x += 1\n",
    "    else:\n",
    "        fluxes_hosts.append(flux)\n",
    "print(x)\n",
    "fluxes_hosts = np.asarray(fluxes_hosts)\n",
    "fluxes_hosts = fluxes_hosts[fluxes_hosts.sum(axis=1)!=0]\n",
    "x = len(fluxes_hosts)\n",
    "subspec_hosts = np.mean(fluxes_hosts[:,:6000].reshape(-1,400,15),2)\n",
    "maxflux = fluxes_hosts.max(axis=-1).reshape(-1,1)\n",
    "minflux = fluxes_hosts.min(axis=-1).reshape(-1,1)\n",
    "standarized_hosts = (subspec_hosts - minflux)/(maxflux-minflux)"
   ]
  },
  {
   "cell_type": "code",
   "execution_count": 22,
   "metadata": {},
   "outputs": [],
   "source": [
    "x_train = np.concatenate([standarized,standarized_hosts]).reshape(-1,400,1)\n",
    "y_train = np.concatenate([np.zeros(standarized.shape[0]),np.ones(standarized_hosts.shape[0])])\n",
    "permute = np.random.permutation(y_train.shape[0])\n"
   ]
  },
  {
   "cell_type": "code",
   "execution_count": 23,
   "metadata": {},
   "outputs": [
    {
     "name": "stdout",
     "output_type": "stream",
     "text": [
      "Train on 17939 samples, validate on 1994 samples\n",
      "Epoch 1/50\n",
      "17939/17939 [==============================] - 30s 2ms/step - loss: 1.6202 - acc: 0.5400 - val_loss: 1.2085 - val_acc: 0.6184\n",
      "Epoch 2/50\n",
      "17939/17939 [==============================] - 26s 1ms/step - loss: 1.0647 - acc: 0.5797 - val_loss: 0.9269 - val_acc: 0.6765\n",
      "Epoch 3/50\n",
      "17939/17939 [==============================] - 26s 1ms/step - loss: 0.8833 - acc: 0.6188 - val_loss: 0.8016 - val_acc: 0.6695\n",
      "Epoch 4/50\n",
      "17939/17939 [==============================] - 25s 1ms/step - loss: 0.7745 - acc: 0.6607 - val_loss: 0.8274 - val_acc: 0.5391\n",
      "Epoch 5/50\n",
      "17939/17939 [==============================] - 26s 1ms/step - loss: 0.6806 - acc: 0.7193 - val_loss: 0.6951 - val_acc: 0.6876\n",
      "Epoch 6/50\n",
      "17939/17939 [==============================] - 26s 1ms/step - loss: 0.6269 - acc: 0.7445 - val_loss: 0.6703 - val_acc: 0.6800\n",
      "Epoch 7/50\n",
      "17939/17939 [==============================] - 26s 1ms/step - loss: 0.5946 - acc: 0.7575 - val_loss: 0.7656 - val_acc: 0.6073\n",
      "Epoch 8/50\n",
      "17939/17939 [==============================] - 26s 1ms/step - loss: 0.5738 - acc: 0.7717 - val_loss: 0.6171 - val_acc: 0.7182\n",
      "Epoch 9/50\n",
      "17939/17939 [==============================] - 26s 1ms/step - loss: 0.5598 - acc: 0.7734 - val_loss: 0.6017 - val_acc: 0.7442\n",
      "Epoch 10/50\n",
      "17939/17939 [==============================] - 26s 1ms/step - loss: 0.5410 - acc: 0.7835 - val_loss: 0.9977 - val_acc: 0.5276\n",
      "Epoch 11/50\n",
      "17939/17939 [==============================] - 26s 1ms/step - loss: 0.5404 - acc: 0.7827 - val_loss: 0.8429 - val_acc: 0.5552\n",
      "Epoch 12/50\n",
      "17939/17939 [==============================] - 26s 1ms/step - loss: 0.5238 - acc: 0.7904 - val_loss: 0.7735 - val_acc: 0.6469\n",
      "Epoch 13/50\n",
      "17939/17939 [==============================] - 26s 1ms/step - loss: 0.5216 - acc: 0.7906 - val_loss: 0.5199 - val_acc: 0.7934\n",
      "Epoch 14/50\n",
      "17939/17939 [==============================] - 26s 1ms/step - loss: 0.5124 - acc: 0.7965 - val_loss: 0.6339 - val_acc: 0.6881\n",
      "Epoch 15/50\n",
      "17939/17939 [==============================] - 26s 1ms/step - loss: 0.5072 - acc: 0.7989 - val_loss: 0.6695 - val_acc: 0.6595\n",
      "Epoch 16/50\n",
      "17939/17939 [==============================] - 26s 1ms/step - loss: 0.5021 - acc: 0.8020 - val_loss: 0.5402 - val_acc: 0.7638\n",
      "Epoch 17/50\n",
      "17939/17939 [==============================] - 26s 1ms/step - loss: 0.4957 - acc: 0.8061 - val_loss: 0.6718 - val_acc: 0.6605\n",
      "Epoch 18/50\n",
      "17939/17939 [==============================] - 25s 1ms/step - loss: 0.4887 - acc: 0.8082 - val_loss: 0.5034 - val_acc: 0.8089\n",
      "Epoch 19/50\n",
      "17939/17939 [==============================] - 26s 1ms/step - loss: 0.4849 - acc: 0.8096 - val_loss: 0.5759 - val_acc: 0.7482\n",
      "Epoch 20/50\n",
      "17939/17939 [==============================] - 25s 1ms/step - loss: 0.4847 - acc: 0.8154 - val_loss: 0.7049 - val_acc: 0.6429\n",
      "Epoch 21/50\n",
      "17939/17939 [==============================] - 25s 1ms/step - loss: 0.4770 - acc: 0.8170 - val_loss: 0.5167 - val_acc: 0.8014\n",
      "Epoch 22/50\n",
      "17939/17939 [==============================] - 26s 1ms/step - loss: 0.4778 - acc: 0.8207 - val_loss: 0.6154 - val_acc: 0.7317\n",
      "Epoch 23/50\n",
      "17939/17939 [==============================] - 25s 1ms/step - loss: 0.4741 - acc: 0.8215 - val_loss: 0.4992 - val_acc: 0.8074\n",
      "Epoch 24/50\n",
      "17939/17939 [==============================] - 26s 1ms/step - loss: 0.4690 - acc: 0.8199 - val_loss: 0.7701 - val_acc: 0.6309\n",
      "Epoch 25/50\n",
      "17939/17939 [==============================] - 26s 1ms/step - loss: 0.4610 - acc: 0.8260 - val_loss: 0.6104 - val_acc: 0.7227\n",
      "Epoch 26/50\n",
      "17939/17939 [==============================] - 26s 1ms/step - loss: 0.4537 - acc: 0.8314 - val_loss: 0.6549 - val_acc: 0.6705\n",
      "Epoch 27/50\n",
      "17939/17939 [==============================] - 25s 1ms/step - loss: 0.4625 - acc: 0.8259 - val_loss: 0.6712 - val_acc: 0.6600\n",
      "Epoch 28/50\n",
      "17939/17939 [==============================] - 25s 1ms/step - loss: 0.4536 - acc: 0.8329 - val_loss: 0.6144 - val_acc: 0.7036\n",
      "Epoch 29/50\n",
      "17939/17939 [==============================] - 26s 1ms/step - loss: 0.4429 - acc: 0.8398 - val_loss: 0.7337 - val_acc: 0.6901\n",
      "Epoch 30/50\n",
      "17939/17939 [==============================] - 26s 1ms/step - loss: 0.4459 - acc: 0.8387 - val_loss: 0.7044 - val_acc: 0.6570\n",
      "Epoch 31/50\n",
      "17939/17939 [==============================] - 26s 1ms/step - loss: 0.4361 - acc: 0.8456 - val_loss: 0.5706 - val_acc: 0.7487\n",
      "Epoch 32/50\n",
      "17939/17939 [==============================] - 26s 1ms/step - loss: 0.4373 - acc: 0.8437 - val_loss: 0.5591 - val_acc: 0.7533\n",
      "Epoch 33/50\n",
      "17939/17939 [==============================] - 26s 1ms/step - loss: 0.4268 - acc: 0.8529 - val_loss: 0.7448 - val_acc: 0.6645\n",
      "Epoch 34/50\n",
      "17939/17939 [==============================] - 26s 1ms/step - loss: 0.4258 - acc: 0.8503 - val_loss: 0.5714 - val_acc: 0.7588\n",
      "Epoch 35/50\n",
      "17939/17939 [==============================] - 25s 1ms/step - loss: 0.4248 - acc: 0.8529 - val_loss: 0.5301 - val_acc: 0.7949\n",
      "Epoch 36/50\n",
      "17939/17939 [==============================] - 25s 1ms/step - loss: 0.4165 - acc: 0.8568 - val_loss: 0.7399 - val_acc: 0.6901\n",
      "Epoch 37/50\n",
      "17939/17939 [==============================] - 25s 1ms/step - loss: 0.4051 - acc: 0.8649 - val_loss: 0.5913 - val_acc: 0.7573\n",
      "Epoch 38/50\n",
      "17939/17939 [==============================] - 25s 1ms/step - loss: 0.4075 - acc: 0.8626 - val_loss: 0.5180 - val_acc: 0.8059\n",
      "Epoch 39/50\n",
      "17939/17939 [==============================] - 25s 1ms/step - loss: 0.4025 - acc: 0.8654 - val_loss: 0.5408 - val_acc: 0.7844\n",
      "Epoch 40/50\n",
      "17939/17939 [==============================] - 26s 1ms/step - loss: 0.4037 - acc: 0.8679 - val_loss: 0.7055 - val_acc: 0.6881\n",
      "Epoch 41/50\n",
      "17939/17939 [==============================] - 26s 1ms/step - loss: 0.3974 - acc: 0.8721 - val_loss: 0.5615 - val_acc: 0.7823\n",
      "Epoch 42/50\n",
      "17939/17939 [==============================] - 26s 1ms/step - loss: 0.3928 - acc: 0.8726 - val_loss: 0.5262 - val_acc: 0.8049\n",
      "Epoch 43/50\n",
      "17939/17939 [==============================] - 26s 1ms/step - loss: 0.3872 - acc: 0.8743 - val_loss: 0.5448 - val_acc: 0.7999\n",
      "Epoch 44/50\n",
      "17939/17939 [==============================] - 26s 1ms/step - loss: 0.3831 - acc: 0.8801 - val_loss: 0.6054 - val_acc: 0.7462\n",
      "Epoch 45/50\n",
      "17939/17939 [==============================] - 26s 1ms/step - loss: 0.3840 - acc: 0.8818 - val_loss: 0.6636 - val_acc: 0.7282\n",
      "Epoch 46/50\n",
      "17939/17939 [==============================] - 25s 1ms/step - loss: 0.3740 - acc: 0.8841 - val_loss: 0.7336 - val_acc: 0.6635\n",
      "Epoch 47/50\n",
      "17939/17939 [==============================] - 26s 1ms/step - loss: 0.3765 - acc: 0.8869 - val_loss: 0.6483 - val_acc: 0.7172\n",
      "Epoch 48/50\n",
      "17939/17939 [==============================] - 26s 1ms/step - loss: 0.3681 - acc: 0.8904 - val_loss: 0.6993 - val_acc: 0.6876\n",
      "Epoch 49/50\n",
      "17939/17939 [==============================] - 26s 1ms/step - loss: 0.3594 - acc: 0.8951 - val_loss: 0.6240 - val_acc: 0.7808\n",
      "Epoch 50/50\n",
      "17939/17939 [==============================] - 26s 1ms/step - loss: 0.3624 - acc: 0.8961 - val_loss: 0.6781 - val_acc: 0.7287\n"
     ]
    }
   ],
   "source": [
    "l = len(x_train)\n",
    "hist = model2.fit(x_train[permute][:l],y_train[permute][:l],batch_size=64,epochs=50,\n",
    "                  validation_split=0.1,shuffle=True)"
   ]
  },
  {
   "cell_type": "code",
   "execution_count": 31,
   "metadata": {},
   "outputs": [
    {
     "data": {
      "image/png": "[encoded data removed]",
      "text/plain": [
       "<Figure size 432x288 with 1 Axes>"
      ]
     },
     "metadata": {},
     "output_type": "display_data"
    }
   ],
   "source": [
    "plt.plot(hist.history['acc'])\n",
    "plt.plot(hist.history['val_acc'])\n",
    "plt.title('model acc and validation acc')\n",
    "plt.ylabel('accuracy')\n",
    "plt.xlabel('epoch')\n",
    "plt.legend(['acc', 'val_acc'], loc='best')\n",
    "plt.show()"
   ]
  },
  {
   "cell_type": "markdown",
   "metadata": {},
   "source": [
    "# Plot First Time "
   ]
  },
  {
   "cell_type": "code",
   "execution_count": 18,
   "metadata": {},
   "outputs": [
    {
     "data": {
      "image/png": "[encoded data removed]",
      "text/plain": [
       "<Figure size 432x288 with 1 Axes>"
      ]
     },
     "metadata": {},
     "output_type": "display_data"
    }
   ],
   "source": [
    "plt.plot(hist.history['acc'])\n",
    "plt.title('model accuracy with epoch')\n",
    "plt.ylabel('accuracy')\n",
    "plt.xlabel('epoch')\n",
    "plt.legend(['acc'], loc='best')\n",
    "plt.show()"
   ]
  },
  {
   "cell_type": "code",
   "execution_count": 20,
   "metadata": {},
   "outputs": [
    {
     "data": {
      "image/png": "[encoded data removed]",
      "text/plain": [
       "<Figure size 432x288 with 1 Axes>"
      ]
     },
     "metadata": {},
     "output_type": "display_data"
    }
   ],
   "source": [
    "plt.plot(hist.history['val_acc'])\n",
    "plt.title('model accuracy with epoch')\n",
    "plt.ylabel('val accuracy')\n",
    "plt.xlabel('epoch')\n",
    "plt.legend(['val_acc'], loc='best')\n",
    "plt.show()"
   ]
  },
  {
   "cell_type": "markdown",
   "metadata": {},
   "source": [
    "# Just tried with an additional layer"
   ]
  },
  {
   "cell_type": "code",
   "execution_count": 25,
   "metadata": {},
   "outputs": [],
   "source": [
    "def network_1(input_shape, learning_rate=0.0005, reg=0.0032, dropout=0.7436, seed=None):\n",
    "    \"\"\" \n",
    "    Args:\n",
    "    input_shape -- shape of the input spectra\n",
    "    regularization_strength -- regularization factor\n",
    "    dropout -- dropout rate\n",
    "    seed -- seed of initializer\n",
    "    Returns:\n",
    "    model -- a Model() instance in Keras\n",
    "    \"\"\"\n",
    "\n",
    "    X_input = Input(input_shape, name='Input_Spec')\n",
    "\n",
    "    with K.name_scope('Conv_1'):\n",
    "        X = Conv1D(filters=8, kernel_size=5, strides=1, padding='same',\n",
    "                   kernel_regularizer=regularizers.l2(reg),\n",
    "                   bias_initializer='zeros',\n",
    "                   kernel_initializer=glorot_normal(seed))(X_input)\n",
    "        X = BatchNormalization(axis=2)(X)\n",
    "        X = Activation('relu')(X)\n",
    "        X = MaxPooling1D(pool_size= 2)(X)\n",
    "\n",
    "    with K.name_scope('Conv_2'):\n",
    "        X = Conv1D(filters=16, kernel_size=5, strides=1, padding='same',\n",
    "                   kernel_regularizer=regularizers.l2(reg),\n",
    "                   bias_initializer='zeros',\n",
    "                   kernel_initializer=glorot_normal(seed))(X)\n",
    "        X = BatchNormalization(axis=2)(X)\n",
    "        X = Activation('relu')(X)\n",
    "        X = MaxPooling1D(2)(X)\n",
    "    with K.name_scope('Conv_3'):\n",
    "        X = Conv1D(filters=32, kernel_size=5, strides=1, padding='same',\n",
    "                   kernel_regularizer=regularizers.l2(reg),\n",
    "                   bias_initializer='zeros',\n",
    "                   kernel_initializer=glorot_normal(seed))(X)\n",
    "        X = BatchNormalization(axis=2)(X)\n",
    "        X = Activation('relu')(X)\n",
    "        X = MaxPooling1D(2)(X)\n",
    "        \n",
    "    with K.name_scope('Conv_4'):\n",
    "        X = Conv1D(filters=64, kernel_size=5, strides=1, padding='same',\n",
    "                   kernel_regularizer=regularizers.l2(reg),\n",
    "                   bias_initializer='zeros',\n",
    "                   kernel_initializer=glorot_normal(seed))(X)\n",
    "        X = BatchNormalization(axis=2)(X)\n",
    "        X = Activation('relu')(X)\n",
    "        X = MaxPooling1D(2)(X)\n",
    "\n",
    "    with K.name_scope('Conv_5'):\n",
    "        X = Conv1D(filters=128, kernel_size=5, strides=1, padding='same',\n",
    "                   kernel_regularizer=regularizers.l2(reg),\n",
    "                   bias_initializer='zeros',\n",
    "                   kernel_initializer=glorot_normal(seed))(X)\n",
    "        X = BatchNormalization(axis=2)(X)\n",
    "        X = Activation('relu')(X)\n",
    "        X = MaxPooling1D(2)(X)\n",
    "\n",
    "    # FLATTEN -> FULLYCONNECTED\n",
    "    with K.name_scope('Dense_Layer'):\n",
    "        X = Flatten()(X)\n",
    "        X = Dense(256, kernel_regularizer=regularizers.l2(reg),\n",
    "                  activation='relu')(X)\n",
    "        X = Dropout(rate=dropout, seed=seed)(X)\n",
    "    \n",
    "    with K.name_scope('Output_Layer'):\n",
    "        X = Dense(1, kernel_regularizer=regularizers.l2(reg),\n",
    "              activation='sigmoid',name='Output_Classes')(X)\n",
    "\n",
    "    model = Model(inputs=X_input, outputs=X, name='SNnet')\n",
    "    model.compile(optimizer=Adam(lr=learning_rate), loss='binary_crossentropy',\n",
    "                  metrics=['accuracy'])\n",
    "    return model\n",
    "\n",
    "model3 = network_1((400,1))\n"
   ]
  },
  {
   "cell_type": "code",
   "execution_count": null,
   "metadata": {},
   "outputs": [
    {
     "name": "stdout",
     "output_type": "stream",
     "text": [
      "Train on 17939 samples, validate on 1994 samples\n",
      "Epoch 1/30\n",
      "17939/17939 [==============================] - 35s 2ms/step - loss: 0.8642 - acc: 0.6170 - val_loss: 0.8480 - val_acc: 0.5948\n",
      "Epoch 2/30\n",
      "17939/17939 [==============================] - 35s 2ms/step - loss: 0.7289 - acc: 0.6999 - val_loss: 0.6751 - val_acc: 0.7342\n",
      "Epoch 3/30\n",
      "17939/17939 [==============================] - 35s 2ms/step - loss: 0.6379 - acc: 0.7509 - val_loss: 0.7142 - val_acc: 0.6505\n",
      "Epoch 4/30\n",
      "17939/17939 [==============================] - 35s 2ms/step - loss: 0.5884 - acc: 0.7762 - val_loss: 0.6862 - val_acc: 0.6911\n",
      "Epoch 5/30\n",
      "17939/17939 [==============================] - 35s 2ms/step - loss: 0.5563 - acc: 0.7863 - val_loss: 0.6794 - val_acc: 0.6780\n",
      "Epoch 6/30\n",
      "17939/17939 [==============================] - 34s 2ms/step - loss: 0.5369 - acc: 0.7962 - val_loss: 0.5393 - val_acc: 0.7894\n",
      "Epoch 7/30\n",
      "17939/17939 [==============================] - 34s 2ms/step - loss: 0.5170 - acc: 0.8059 - val_loss: 0.5739 - val_acc: 0.7528\n",
      "Epoch 8/30\n",
      "17939/17939 [==============================] - 34s 2ms/step - loss: 0.5004 - acc: 0.8134 - val_loss: 0.5886 - val_acc: 0.7382\n",
      "Epoch 9/30\n",
      "17939/17939 [==============================] - 34s 2ms/step - loss: 0.4885 - acc: 0.8214 - val_loss: 0.5998 - val_acc: 0.7503\n",
      "Epoch 10/30\n",
      "17939/17939 [==============================] - 35s 2ms/step - loss: 0.4801 - acc: 0.8262 - val_loss: 0.6679 - val_acc: 0.6976\n",
      "Epoch 11/30\n",
      "17939/17939 [==============================] - 34s 2ms/step - loss: 0.4678 - acc: 0.8354 - val_loss: 0.5629 - val_acc: 0.7788\n",
      "Epoch 12/30\n",
      "17939/17939 [==============================] - 34s 2ms/step - loss: 0.4578 - acc: 0.8399 - val_loss: 0.5115 - val_acc: 0.7969\n",
      "Epoch 13/30\n",
      "17939/17939 [==============================] - 34s 2ms/step - loss: 0.4419 - acc: 0.8483 - val_loss: 0.6016 - val_acc: 0.7407\n",
      "Epoch 14/30\n",
      "17939/17939 [==============================] - 34s 2ms/step - loss: 0.4390 - acc: 0.8537 - val_loss: 0.5325 - val_acc: 0.7914\n",
      "Epoch 15/30\n",
      "17939/17939 [==============================] - 34s 2ms/step - loss: 0.4316 - acc: 0.8555 - val_loss: 0.5791 - val_acc: 0.7553\n",
      "Epoch 16/30\n",
      "17939/17939 [==============================] - 35s 2ms/step - loss: 0.4280 - acc: 0.8606 - val_loss: 0.7558 - val_acc: 0.6409\n",
      "Epoch 17/30\n",
      "17939/17939 [==============================] - 35s 2ms/step - loss: 0.4185 - acc: 0.8652 - val_loss: 0.5831 - val_acc: 0.7703\n",
      "Epoch 18/30\n",
      "17939/17939 [==============================] - 37s 2ms/step - loss: 0.4056 - acc: 0.8737 - val_loss: 0.5914 - val_acc: 0.7663\n",
      "Epoch 19/30\n",
      "17939/17939 [==============================] - 36s 2ms/step - loss: 0.3962 - acc: 0.8803 - val_loss: 0.6791 - val_acc: 0.7116\n",
      "Epoch 20/30\n",
      "17939/17939 [==============================] - 37s 2ms/step - loss: 0.3866 - acc: 0.8856 - val_loss: 0.5141 - val_acc: 0.8275\n",
      "Epoch 21/30\n",
      "17939/17939 [==============================] - 36s 2ms/step - loss: 0.3810 - acc: 0.8916 - val_loss: 0.6628 - val_acc: 0.7578\n",
      "Epoch 22/30\n",
      "17939/17939 [==============================] - 36s 2ms/step - loss: 0.3702 - acc: 0.8939 - val_loss: 0.7275 - val_acc: 0.7106\n",
      "Epoch 23/30\n",
      "17939/17939 [==============================] - 36s 2ms/step - loss: 0.3636 - acc: 0.8981 - val_loss: 0.5957 - val_acc: 0.7748\n",
      "Epoch 24/30\n",
      "17939/17939 [==============================] - 36s 2ms/step - loss: 0.3534 - acc: 0.9057 - val_loss: 0.6181 - val_acc: 0.8014\n",
      "Epoch 25/30\n",
      "17939/17939 [==============================] - 37s 2ms/step - loss: 0.3435 - acc: 0.9124 - val_loss: 0.7810 - val_acc: 0.7031\n",
      "Epoch 26/30\n",
      "17939/17939 [==============================] - 37s 2ms/step - loss: 0.3427 - acc: 0.9139 - val_loss: 0.5840 - val_acc: 0.8059\n",
      "Epoch 27/30\n",
      "17939/17939 [==============================] - 37s 2ms/step - loss: 0.3460 - acc: 0.9148 - val_loss: 0.6810 - val_acc: 0.7793\n",
      "Epoch 28/30\n",
      "17939/17939 [==============================] - 36s 2ms/step - loss: 0.3301 - acc: 0.9187 - val_loss: 0.5913 - val_acc: 0.8044\n",
      "Epoch 29/30\n",
      "17939/17939 [==============================] - 36s 2ms/step - loss: 0.3188 - acc: 0.9271 - val_loss: 0.7867 - val_acc: 0.7437\n",
      "Epoch 30/30\n",
      " 1344/17939 [=>............................] - ETA: 31s - loss: 0.2925 - acc: 0.9390"
     ]
    }
   ],
   "source": [
    "l = len(x_train)\n",
    "hist1 = model3.fit(x_train[permute][:l],y_train[permute][:l],batch_size=64,epochs=30,\n",
    "                  validation_split=0.1,shuffle=True)"
   ]
  },
  {
   "cell_type": "code",
   "execution_count": null,
   "metadata": {},
   "outputs": [],
   "source": [
    "plt.plot(hist1.history['acc'])\n",
    "plt.plot(hist1.history['val_acc'])\n",
    "plt.title('model acc and validation acc')\n",
    "plt.ylabel('accuracy')\n",
    "plt.xlabel('epoch')\n",
    "plt.legend(['acc', 'val_acc'], loc='best')\n",
    "plt.show()"
   ]
  }
 ],
 "metadata": {
  "kernelspec": {
   "display_name": "Python 3 (3.6.5)",
   "language": "python",
   "name": "python3"
  },
  "language_info": {
   "codemirror_mode": {
    "name": "ipython",
    "version": 3
   },
   "file_extension": ".py",
   "mimetype": "text/x-python",
   "name": "python",
   "nbconvert_exporter": "python",
   "pygments_lexer": "ipython3",
   "version": "3.6.5"
  }
 },
 "nbformat": 4,
 "nbformat_minor": 4
}
